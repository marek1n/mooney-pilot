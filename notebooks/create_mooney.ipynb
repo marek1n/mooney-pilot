{
 "cells": [
  {
   "cell_type": "code",
   "execution_count": 3,
   "metadata": {},
   "outputs": [
    {
     "data": {
      "application/vnd.jupyter.widget-view+json": {
       "model_id": "d932db619a9a4dde8be34f7a81a98abd",
       "version_major": 2,
       "version_minor": 0
      },
      "text/plain": [
       "interactive(children=(FloatSlider(value=1.0, description='Blur Sigma', max=9.0), Dropdown(description='Thresho…"
      ]
     },
     "metadata": {},
     "output_type": "display_data"
    }
   ],
   "source": [
    "import numpy as np\n",
    "import matplotlib.pyplot as plt\n",
    "\n",
    "from pathlib import Path\n",
    "from skimage import io, color, filters\n",
    "from ipywidgets import interact, FloatSlider, Dropdown\n",
    "\n",
    "\n",
    "\n",
    "ROOT = Path('/Users/mn/Desktop/g_images/imgs_to_update/') # path to greyscale\n",
    "imgs_all = list(ROOT.glob('*.jpg'))\n",
    "\n",
    "img_path = imgs_all[1]\n",
    "img_name = str(img_path).split('.')[0].split('/')[-1]\n",
    "\n",
    "image = io.imread(ROOT / img_path, as_gray=True)\n",
    "\n",
    "def binarize(blur_sigma, threshold_method, threshold_delta):\n",
    "    blurred = filters.gaussian(image, sigma=blur_sigma)\n",
    "    # apply thresholding\n",
    "    if threshold_method == 'Otsu':\n",
    "        thresh = filters.threshold_otsu(image)\n",
    "    elif threshold_method == 'Li':\n",
    "        thresh = filters.threshold_li(image)\n",
    "    elif threshold_method == 'Isodata':\n",
    "        thresh = filters.threshold_isodata(image)\n",
    "    elif threshold_method == 'Mean':\n",
    "        thresh = filters.threshold_mean(image)\n",
    "    elif threshold_method == 'Minimum':\n",
    "        thresh = filters.threshold_minimum(image)\n",
    "    \n",
    "    binary = blurred > (thresh + threshold_delta)\n",
    "\n",
    "    plt.imshow(binary, cmap='gray', interpolation='nearest')\n",
    "    plt.axis('off')\n",
    "    plt.show()\n",
    "\n",
    "# sliders\n",
    "threshold_slider = FloatSlider(min=-1, max=1, step=0.001, value=0, description='Threshold')\n",
    "blur_sigma_slider = FloatSlider(min=0, max=9, step=0.1, value=1.0, description='Blur Sigma')\n",
    "threshold_method_widget = Dropdown(options=['Otsu', 'Li', 'Isodata', 'Mean', 'Minimum'],\n",
    "                                   description='Threshold Method')\n",
    "\n",
    "\n",
    "interact(binarize, threshold_method=threshold_method_widget, blur_sigma=blur_sigma_slider, threshold_delta=threshold_slider);"
   ]
  },
  {
   "cell_type": "code",
   "execution_count": 5,
   "metadata": {},
   "outputs": [],
   "source": [
    "# get slider values\n",
    "threshold_method = threshold_method_widget.value\n",
    "threshold_delta = threshold_slider.value\n",
    "blur_sigma = blur_sigma_slider.value\n",
    "\n",
    "# save mooney\n",
    "\n",
    "mooney_name = img_name.strip(\"dis_\")\n",
    "\n",
    "\n",
    "gray_image = io.imread(img_path, as_gray=True)\n",
    "\n",
    "blurred = filters.gaussian(gray_image, sigma=blur_sigma)\n",
    "# apply thresholding\n",
    "if threshold_method == 'Otsu':\n",
    "    thresh = filters.threshold_otsu(gray_image)\n",
    "elif threshold_method == 'Li':\n",
    "    thresh = filters.threshold_li(gray_image)\n",
    "elif threshold_method == 'Isodata':\n",
    "    thresh = filters.threshold_isodata(gray_image)\n",
    "elif threshold_method == 'Mean':\n",
    "    thresh = filters.threshold_mean(gray_image)\n",
    "elif threshold_method == 'Minimum':\n",
    "    thresh = filters.threshold_minimum(gray_image)\n",
    "\n",
    "binary = blurred > (thresh + threshold_delta)\n",
    "\n",
    "plt.imsave((ROOT / f\"{mooney_name}.jpg\"), binary, cmap='gray')\n",
    "# print(ROOT / f\"{mooney_name}.jpg\")"
   ]
  }
 ],
 "metadata": {
  "kernelspec": {
   "display_name": "mooney",
   "language": "python",
   "name": "python3"
  },
  "language_info": {
   "codemirror_mode": {
    "name": "ipython",
    "version": 3
   },
   "file_extension": ".py",
   "mimetype": "text/x-python",
   "name": "python",
   "nbconvert_exporter": "python",
   "pygments_lexer": "ipython3",
   "version": "3.10.8"
  },
  "orig_nbformat": 4
 },
 "nbformat": 4,
 "nbformat_minor": 2
}
