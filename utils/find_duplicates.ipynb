{
 "cells": [
  {
   "cell_type": "code",
   "execution_count": 1,
   "metadata": {},
   "outputs": [
    {
     "name": "stderr",
     "output_type": "stream",
     "text": [
      "/opt/miniconda3/envs/mooney/lib/python3.10/site-packages/tqdm/auto.py:22: TqdmWarning: IProgress not found. Please update jupyter and ipywidgets. See https://ipywidgets.readthedocs.io/en/stable/user_install.html\n",
      "  from .autonotebook import tqdm as notebook_tqdm\n"
     ]
    },
    {
     "name": "stdout",
     "output_type": "stream",
     "text": [
      "Loading CLIP Model...\n"
     ]
    },
    {
     "name": "stderr",
     "output_type": "stream",
     "text": [
      "Downloading: 100%|██████████| 690/690 [00:00<00:00, 114kB/s]\n",
      "Downloading: 100%|██████████| 4.03k/4.03k [00:00<00:00, 752kB/s]\n",
      "Downloading: 100%|██████████| 525k/525k [00:00<00:00, 969kB/s]  \n",
      "Downloading: 100%|██████████| 316/316 [00:00<00:00, 61.2kB/s]\n",
      "Downloading: 100%|██████████| 605M/605M [00:34<00:00, 17.7MB/s] \n",
      "Downloading: 100%|██████████| 389/389 [00:00<00:00, 78.6kB/s]\n",
      "Downloading: 100%|██████████| 604/604 [00:00<00:00, 125kB/s]\n",
      "Downloading: 100%|██████████| 961k/961k [00:00<00:00, 1.47MB/s]\n",
      "Downloading: 100%|██████████| 1.88k/1.88k [00:00<00:00, 405kB/s]\n",
      "Downloading: 100%|██████████| 116/116 [00:00<00:00, 30.8kB/s]\n",
      "Downloading: 100%|██████████| 122/122 [00:00<00:00, 27.9kB/s]\n"
     ]
    },
    {
     "name": "stdout",
     "output_type": "stream",
     "text": [
      "Images: 1494\n"
     ]
    },
    {
     "name": "stderr",
     "output_type": "stream",
     "text": [
      "Batches: 100%|██████████| 12/12 [01:40<00:00,  8.36s/it]\n"
     ]
    },
    {
     "name": "stdout",
     "output_type": "stream",
     "text": [
      "Finding duplicate images...\n",
      "\n",
      "Score: 100.000%\n",
      "./stimulus_set_final_all/train_34.jpg\n",
      "./stimulus_set_final_all/train_68.jpg\n",
      "\n",
      "Score: 100.000%\n",
      "./stimulus_set_final_all/dis_hammer_2_6.jpg\n",
      "./stimulus_set_final_all/dis_hammer_49.jpg\n",
      "\n",
      "Score: 100.000%\n",
      "./stimulus_set_final_all/dis_woman's face_74.jpg\n",
      "./stimulus_set_final_all/dis_face_145.jpg\n",
      "\n",
      "Score: 100.000%\n",
      "./stimulus_set_final_all/bat_244.jpg\n",
      "./stimulus_set_final_all/bat_9.jpg\n",
      "\n",
      "Score: 100.000%\n",
      "./stimulus_set_final_all/dis_tennis_player_105.jpg\n",
      "./stimulus_set_final_all/dis_tennis player_117.jpg\n",
      "Finding near duplicate images...\n",
      "\n",
      "Score: 95.000%\n",
      "./stimulus_set_final_all/bat_253.jpg\n",
      "./stimulus_set_final_all/houseplant_32.jpg\n",
      "\n",
      "Score: 95.000%\n",
      "./stimulus_set_final_all/surfer_37.jpg\n",
      "./stimulus_set_final_all/monkey_243.jpg\n",
      "\n",
      "Score: 95.000%\n",
      "./stimulus_set_final_all/rake_166.jpg\n",
      "./stimulus_set_final_all/train_143.jpg\n",
      "\n",
      "Score: 95.000%\n",
      "./stimulus_set_final_all/face_147.jpg\n",
      "./stimulus_set_final_all/wrench_18.jpg\n",
      "\n",
      "Score: 95.000%\n",
      "./stimulus_set_final_all/gymnast_149.jpg\n",
      "./stimulus_set_final_all/monkey_272.jpg\n"
     ]
    }
   ],
   "source": [
    "# https://stackoverflow.com/a/71567609\n",
    "\n",
    "from sentence_transformers import SentenceTransformer, util\n",
    "from PIL import Image\n",
    "import glob\n",
    "import os\n",
    "\n",
    "# Load the OpenAI CLIP Model\n",
    "print('Loading CLIP Model...')\n",
    "model = SentenceTransformer('clip-ViT-B-32')\n",
    "\n",
    "# Next we compute the embeddings\n",
    "image_names = list(glob.glob('./stimulus_set_final_all/*.jpg'))\n",
    "print(\"Images:\", len(image_names))\n",
    "encoded_images = model.encode(\n",
    "    [Image.open(filepath) for filepath in image_names], \n",
    "    batch_size=128, \n",
    "    convert_to_tensor=True, \n",
    "    show_progress_bar=True\n",
    "    )\n",
    "\n",
    "processed_images = util.paraphrase_mining_embeddings(encoded_images)\n",
    "NUM_SIMILAR_IMAGES = 5\n",
    "\n",
    "# =================\n",
    "# DUPLICATES\n",
    "# =================\n",
    "print('Finding duplicate images...')\n",
    "# Filter list for duplicates. Results are triplets (score, image_id1, image_id2) and is scorted in decreasing order\n",
    "# A duplicate image will have a score of 1.00\n",
    "duplicates = [image for image in processed_images if image[0] >= 1]\n",
    "\n",
    "# Output the top X duplicate images\n",
    "for score, image_id1, image_id2 in duplicates[0:NUM_SIMILAR_IMAGES]:\n",
    "    print(\"\\nScore: {:.3f}%\".format(score * 100))\n",
    "    print(image_names[image_id1])\n",
    "    print(image_names[image_id2])\n",
    "\n",
    "# =================\n",
    "# NEAR DUPLICATES\n",
    "# =================\n",
    "print('Finding near duplicate images...')\n",
    "# Use a threshold parameter to identify two images as similar. By setting the threshold lower, \n",
    "# you will get larger clusters which have less similar images in it. Threshold 0 - 1.00\n",
    "# A threshold of 1.00 means the two images are exactly the same. Since we are finding near \n",
    "# duplicate images, we can set it at 0.99 or any number 0 < X < 1.00.\n",
    "threshold = 0.95\n",
    "near_duplicates = [image for image in processed_images if image[0] < threshold]\n",
    "\n",
    "for score, image_id1, image_id2 in near_duplicates[0:NUM_SIMILAR_IMAGES]:\n",
    "    print(\"\\nScore: {:.3f}%\".format(score * 100))\n",
    "    print(image_names[image_id1])\n",
    "    print(image_names[image_id2])"
   ]
  }
 ],
 "metadata": {
  "kernelspec": {
   "display_name": "mooney",
   "language": "python",
   "name": "python3"
  },
  "language_info": {
   "codemirror_mode": {
    "name": "ipython",
    "version": 3
   },
   "file_extension": ".py",
   "mimetype": "text/x-python",
   "name": "python",
   "nbconvert_exporter": "python",
   "pygments_lexer": "ipython3",
   "version": "3.10.8 | packaged by conda-forge | (main, Nov 22 2022, 08:27:35) [Clang 14.0.6 ]"
  },
  "vscode": {
   "interpreter": {
    "hash": "4f83246bd15258068eed0332d2299f3bcf87af7ddde0b9579c60970de6b35765"
   }
  }
 },
 "nbformat": 4,
 "nbformat_minor": 2
}
