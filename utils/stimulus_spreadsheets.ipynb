{
 "cells": [
  {
   "cell_type": "code",
   "execution_count": 1,
   "metadata": {},
   "outputs": [],
   "source": [
    "import pandas as pd\n",
    "from pathlib import Path"
   ]
  },
  {
   "cell_type": "code",
   "execution_count": 2,
   "metadata": {},
   "outputs": [
    {
     "name": "stdout",
     "output_type": "stream",
     "text": [
      "['airplane', 'bat', 'boat', 'broccoli', 'cat', 'cow', 'elephant', 'face child', 'face female', 'face male', 'fish', 'flower', 'garden tools', 'gymnast', 'hammer', 'hand tools', 'houseplant', 'monkey', 'pineapple', 'surfer', 'tennis player', 'tomato', 'train', 'tree']\n"
     ]
    }
   ],
   "source": [
    "root = Path.cwd() / 'stim_set_final_by_cat'\n",
    "category_paths = sorted([f for f in root.iterdir() if f.is_dir()])\n",
    "categories = [p.name for p in category_paths]\n",
    "\n",
    "assert len(categories) == 24\n",
    "print(categories)"
   ]
  },
  {
   "cell_type": "code",
   "execution_count": 23,
   "metadata": {},
   "outputs": [],
   "source": [
    "image_dict = {}\n",
    "\n",
    "for i, category in enumerate(categories):\n",
    "    image_dict[category] = sorted([str(imgpath).split(\"/\")[-1] for imgpath in category_paths[i].glob('*jpg') \n",
    "                                        if str(imgpath).split(\"/\")[-1][:3] != 'dis'], \n",
    "                                        key=lambda x: int(''.join(filter(str.isdigit, str(x))))\n",
    "                                        )\n",
    "\n",
    "assert all([len(image_dict[k]) >= 30 for k in image_dict.keys()])\n",
    "\n",
    "# partition into sets of 5\n",
    "for k in image_dict.keys():\n",
    "    image_dict[k] = [image_dict[k][x:x+5] for x in range(0, len(image_dict[k]), 5)][:6]"
   ]
  },
  {
   "cell_type": "code",
   "execution_count": 31,
   "metadata": {},
   "outputs": [
    {
     "data": {
      "text/plain": [
       "['bat_7.jpg',\n",
       " 'houseplant_22.jpg',\n",
       " 'surfer_0.jpg',\n",
       " 'train_11.jpg',\n",
       " 'pineapple_22.jpg',\n",
       " 'elephant_0.jpg',\n",
       " 'pineapple_44.jpg',\n",
       " 'monkey_49.jpg',\n",
       " 'surfer_2.jpg',\n",
       " 'tomato_20.jpg',\n",
       " 'faces_new_2.jpg',\n",
       " 'hand tools_20.jpg',\n",
       " 'monkey_67.jpg',\n",
       " 'elephant_2.jpg',\n",
       " 'broccoli_25.jpg',\n",
       " 'rake_8.jpg',\n",
       " 'houseplant_8.jpg',\n",
       " 'surfer_6.jpg',\n",
       " 'fish_3.jpg',\n",
       " 'gymnast_25.jpg',\n",
       " 'bat_6.jpg',\n",
       " 'rake_6.jpg',\n",
       " 'surfer_12.jpg',\n",
       " 'tomato_15.jpg',\n",
       " 'bat_5.jpg',\n",
       " 'plane_1.jpg',\n",
       " 'wrench_18.jpg',\n",
       " 'hammer_1.jpg',\n",
       " 'cow_2.jpg',\n",
       " 'houseplant_4.jpg',\n",
       " 'cat_2.jpg',\n",
       " 'fish_8.jpg',\n",
       " 'face_new_f_1.jpg',\n",
       " 'fish_2.jpg',\n",
       " 'gymnast_9.jpg',\n",
       " 'face_new_c_9.jpg',\n",
       " 'gymnast_15.jpg',\n",
       " 'elephant_6.jpg',\n",
       " 'rake_0.jpg',\n",
       " \"baby's face_8.jpg\",\n",
       " 'flower_22.jpg',\n",
       " 'flower_0.jpg',\n",
       " 'hand tools_3.jpg',\n",
       " 'cat_4b.jpg',\n",
       " 'rake_10.jpg',\n",
       " 'gymnast_0.jpg',\n",
       " 'cat_4.jpg',\n",
       " 'face_new_f_0.jpg',\n",
       " 'surfer_13.jpg',\n",
       " 'train_4.jpg',\n",
       " 'cat_8.jpg',\n",
       " 'bat_3.jpg',\n",
       " 'flower_12.jpg',\n",
       " 'pineapple_18.jpg',\n",
       " 'broccoli_38.jpg',\n",
       " 'face_new_m_4.jpg',\n",
       " 'tree_10.jpg',\n",
       " 'face_new_f_7.jpg',\n",
       " 'plane_5.jpg',\n",
       " 'tennis player_22.jpg',\n",
       " 'hammer_3.jpg',\n",
       " 'hammer_9.jpg',\n",
       " \"baby's face_4.jpg\",\n",
       " 'face_new_m_2.jpg',\n",
       " 'face_new_b_5.jpg',\n",
       " 'boat_2.jpg',\n",
       " 'hammer_2_0.jpg',\n",
       " 'broccoli_1.jpg',\n",
       " 'flower_18.jpg',\n",
       " 'bat_0.jpg',\n",
       " 'elephant_5.jpg',\n",
       " 'face_new_f_10.jpg',\n",
       " 'face_new_m_0.jpg',\n",
       " 'boat_10.jpg',\n",
       " 'face_new_m_3.jpg',\n",
       " 'tennis player_11.jpg',\n",
       " 'train_0.jpg',\n",
       " 'tree_10b.jpg',\n",
       " 'tennis player_6.jpg',\n",
       " 'broccoli_41.jpg',\n",
       " 'monkey_9.jpg',\n",
       " 'face_new_f_9.jpg',\n",
       " 'tennis player_23.jpg',\n",
       " 'cat_0.jpg',\n",
       " 'airplane_0.jpg',\n",
       " 'tree_1.jpg',\n",
       " 'tomato_1.jpg',\n",
       " 'flower_14.jpg',\n",
       " 'train_6.jpg',\n",
       " 'fish_14.jpg',\n",
       " 'tomato_3.jpg',\n",
       " 'monkey_97.jpg',\n",
       " 'houseplant_15.jpg',\n",
       " 'pineapple_20.jpg',\n",
       " 'cow_0.jpg',\n",
       " 'hammer_2.jpg',\n",
       " 'tennis_player_20.jpg',\n",
       " 'hand tools_11.jpg',\n",
       " 'rake_11.jpg',\n",
       " 'cow_5.jpg',\n",
       " 'cow_3.jpg',\n",
       " 'tomato_2.jpg',\n",
       " 'tree_8.jpg',\n",
       " 'airplane_12.jpg',\n",
       " 'fish_15.jpg',\n",
       " 'hand tools_1.jpg',\n",
       " 'boat_3.jpg',\n",
       " 'gymnast_28.jpg',\n",
       " 'train_2.jpg',\n",
       " 'monkey_43.jpg',\n",
       " 'boat_11.jpg',\n",
       " 'tree_4.jpg',\n",
       " 'broccoli_35.jpg',\n",
       " 'cow_4.jpg',\n",
       " 'elephant_1.jpg',\n",
       " 'face_new_b_0.jpg',\n",
       " 'pineapple_47b.jpg',\n",
       " 'airplane_8.jpg',\n",
       " 'boat_12.jpg',\n",
       " 'houseplant_7.jpg']"
      ]
     },
     "execution_count": 31,
     "metadata": {},
     "output_type": "execute_result"
    }
   ],
   "source": [
    "import random\n",
    "from itertools import chain\n",
    "\n",
    "random.seed(42)\n",
    "\n",
    "stim1 = list(chain(*[image_dict[k][0] for k in image_dict.keys()]))\n",
    "stim2 = list(chain(*[image_dict[k][1] for k in image_dict.keys()]))\n",
    "stim3 = list(chain(*[image_dict[k][2] for k in image_dict.keys()]))\n",
    "stim4 = list(chain(*[image_dict[k][3] for k in image_dict.keys()]))\n",
    "stim5 = list(chain(*[image_dict[k][4] for k in image_dict.keys()]))\n",
    "stim6 = list(chain(*[image_dict[k][5] for k in image_dict.keys()]))\n",
    "\n",
    "for stim_set in (stim1, stim2, stim3, stim4, stim5, stim6):\n",
    "    random.shuffle(stim_set)"
   ]
  }
 ],
 "metadata": {
  "kernelspec": {
   "display_name": "mooney",
   "language": "python",
   "name": "python3"
  },
  "language_info": {
   "codemirror_mode": {
    "name": "ipython",
    "version": 3
   },
   "file_extension": ".py",
   "mimetype": "text/x-python",
   "name": "python",
   "nbconvert_exporter": "python",
   "pygments_lexer": "ipython3",
   "version": "3.10.8"
  },
  "orig_nbformat": 4,
  "vscode": {
   "interpreter": {
    "hash": "4f83246bd15258068eed0332d2299f3bcf87af7ddde0b9579c60970de6b35765"
   }
  }
 },
 "nbformat": 4,
 "nbformat_minor": 2
}
